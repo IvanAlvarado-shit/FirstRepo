{
 "cells": [
  {
   "cell_type": "markdown",
   "id": "fe1d2880-db06-409e-a755-489582f1b066",
   "metadata": {},
   "source": [
    "# Data Science Tools and Ecosystem"
   ]
  },
  {
   "cell_type": "markdown",
   "id": "d18a4d32-adaa-4f7b-96f1-efdb0d0b8e88",
   "metadata": {},
   "source": [
    "In this notebook, Data Science Tools and Ecosystem are summarized."
   ]
  },
  {
   "cell_type": "markdown",
   "id": "836bf54f-df4c-41c0-b306-080db6013a2b",
   "metadata": {},
   "source": [
    "**Objectives:**\n",
    "\n",
    "* List popular languages for Data Science.\n",
    "* Overview of Data Science Tool.\n",
    "* RStudio and GitHub\n",
    "* Packages, APIS, Data Sets and Models."
   ]
  },
  {
   "cell_type": "markdown",
   "id": "af30ea75-4285-4fa3-9acd-b833498de90f",
   "metadata": {},
   "source": [
    "#### Some of the popular languages that Data Scientists use are:\n",
    "1. Python\n",
    "2. R\n",
    "3. SQL"
   ]
  },
  {
   "cell_type": "markdown",
   "id": "f8c5ff83-4ddf-46aa-aec6-d40d679b0243",
   "metadata": {},
   "source": [
    "#### Some of the commonly used libraries used by Data Scientists include:\n",
    "1. NumPy\n",
    "2. Pandas\n",
    "3. TensorFlow"
   ]
  },
  {
   "cell_type": "markdown",
   "id": "b5afb9f3-9fd7-4f93-b413-a5d5c869e40a",
   "metadata": {},
   "source": [
    "|Data Science Tools|\n",
    "|------------------|\n",
    "|GitHub|\n",
    "|JupyterLab|\n",
    "|Kibana|"
   ]
  },
  {
   "cell_type": "markdown",
   "id": "a73cf1e9-7c62-4093-b0af-5fa4582dac07",
   "metadata": {},
   "source": [
    "### Below are a few examples of evaluating arithmetic expressions in Python."
   ]
  },
  {
   "cell_type": "code",
   "execution_count": 1,
   "id": "f2ced227-74e1-4c30-abdb-6689e2481457",
   "metadata": {},
   "outputs": [
    {
     "data": {
      "text/plain": [
       "17"
      ]
     },
     "execution_count": 1,
     "metadata": {},
     "output_type": "execute_result"
    }
   ],
   "source": [
    "#This a simple arithmetic expression to mutiply then add integers.\n",
    "(3*4)+5"
   ]
  },
  {
   "cell_type": "code",
   "execution_count": 2,
   "id": "d2c43318-e2ea-4c6d-b6f2-ed7512195958",
   "metadata": {},
   "outputs": [
    {
     "data": {
      "text/plain": [
       "3.3333333333333335"
      ]
     },
     "execution_count": 2,
     "metadata": {},
     "output_type": "execute_result"
    }
   ],
   "source": [
    "#This will convert 200 minutes to hours by diving by 60\n",
    "200/60"
   ]
  },
  {
   "cell_type": "markdown",
   "id": "e9d4cae3-ce3c-40df-9ff0-05cd909a86ea",
   "metadata": {},
   "source": [
    "## Author\n",
    "Ivan Alejandro Alvarado Rios"
   ]
  },
  {
   "cell_type": "code",
   "execution_count": null,
   "id": "52d0164b-03ad-45a3-b3cf-12e0816cd9a8",
   "metadata": {},
   "outputs": [],
   "source": []
  }
 ],
 "metadata": {
  "kernelspec": {
   "display_name": "Python 3 (ipykernel)",
   "language": "python",
   "name": "python3"
  },
  "language_info": {
   "codemirror_mode": {
    "name": "ipython",
    "version": 3
   },
   "file_extension": ".py",
   "mimetype": "text/x-python",
   "name": "python",
   "nbconvert_exporter": "python",
   "pygments_lexer": "ipython3",
   "version": "3.13.5"
  }
 },
 "nbformat": 4,
 "nbformat_minor": 5
}
